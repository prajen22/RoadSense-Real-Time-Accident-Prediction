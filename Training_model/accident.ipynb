{
 "cells": [
  {
   "cell_type": "code",
   "execution_count": 1,
   "metadata": {},
   "outputs": [],
   "source": [
    "import pandas as pd\n",
    "from sklearn.model_selection import train_test_split\n",
    "from sklearn.preprocessing import StandardScaler\n",
    "from sklearn.ensemble import RandomForestClassifier\n",
    "from sklearn.metrics import classification_report, confusion_matrix\n",
    "import matplotlib.pyplot as plt\n",
    "import seaborn as sns"
   ]
  },
  {
   "cell_type": "code",
   "execution_count": 11,
   "metadata": {},
   "outputs": [
    {
     "data": {
      "text/html": [
       "<div>\n",
       "<style scoped>\n",
       "    .dataframe tbody tr th:only-of-type {\n",
       "        vertical-align: middle;\n",
       "    }\n",
       "\n",
       "    .dataframe tbody tr th {\n",
       "        vertical-align: top;\n",
       "    }\n",
       "\n",
       "    .dataframe thead th {\n",
       "        text-align: right;\n",
       "    }\n",
       "</style>\n",
       "<table border=\"1\" class=\"dataframe\">\n",
       "  <thead>\n",
       "    <tr style=\"text-align: right;\">\n",
       "      <th></th>\n",
       "      <th>speed</th>\n",
       "      <th>rpm</th>\n",
       "      <th>throttle</th>\n",
       "      <th>g_force</th>\n",
       "      <th>acceleration</th>\n",
       "      <th>brake_pressure</th>\n",
       "      <th>steering_angle</th>\n",
       "      <th>accident_severity</th>\n",
       "      <th>driver_behavior</th>\n",
       "    </tr>\n",
       "  </thead>\n",
       "  <tbody>\n",
       "    <tr>\n",
       "      <th>0</th>\n",
       "      <td>44.944814</td>\n",
       "      <td>1392.425372</td>\n",
       "      <td>0.261706</td>\n",
       "      <td>3.363515</td>\n",
       "      <td>0.719959</td>\n",
       "      <td>0.393636</td>\n",
       "      <td>13.343126</td>\n",
       "      <td>0</td>\n",
       "      <td>0</td>\n",
       "    </tr>\n",
       "    <tr>\n",
       "      <th>1</th>\n",
       "      <td>114.085717</td>\n",
       "      <td>2534.083032</td>\n",
       "      <td>0.246979</td>\n",
       "      <td>3.983407</td>\n",
       "      <td>3.054323</td>\n",
       "      <td>0.473436</td>\n",
       "      <td>-29.485227</td>\n",
       "      <td>0</td>\n",
       "      <td>0</td>\n",
       "    </tr>\n",
       "    <tr>\n",
       "      <th>2</th>\n",
       "      <td>87.839273</td>\n",
       "      <td>3593.426675</td>\n",
       "      <td>0.906255</td>\n",
       "      <td>1.252339</td>\n",
       "      <td>2.601609</td>\n",
       "      <td>0.854547</td>\n",
       "      <td>33.515511</td>\n",
       "      <td>0</td>\n",
       "      <td>0</td>\n",
       "    </tr>\n",
       "    <tr>\n",
       "      <th>3</th>\n",
       "      <td>71.839018</td>\n",
       "      <td>3143.119637</td>\n",
       "      <td>0.249546</td>\n",
       "      <td>3.124370</td>\n",
       "      <td>-3.461001</td>\n",
       "      <td>0.340004</td>\n",
       "      <td>10.180462</td>\n",
       "      <td>1</td>\n",
       "      <td>0</td>\n",
       "    </tr>\n",
       "    <tr>\n",
       "      <th>4</th>\n",
       "      <td>18.722237</td>\n",
       "      <td>3380.995673</td>\n",
       "      <td>0.271950</td>\n",
       "      <td>2.858730</td>\n",
       "      <td>-3.507505</td>\n",
       "      <td>0.869650</td>\n",
       "      <td>-30.851650</td>\n",
       "      <td>1</td>\n",
       "      <td>0</td>\n",
       "    </tr>\n",
       "  </tbody>\n",
       "</table>\n",
       "</div>"
      ],
      "text/plain": [
       "        speed          rpm  throttle   g_force  acceleration  brake_pressure  \\\n",
       "0   44.944814  1392.425372  0.261706  3.363515      0.719959        0.393636   \n",
       "1  114.085717  2534.083032  0.246979  3.983407      3.054323        0.473436   \n",
       "2   87.839273  3593.426675  0.906255  1.252339      2.601609        0.854547   \n",
       "3   71.839018  3143.119637  0.249546  3.124370     -3.461001        0.340004   \n",
       "4   18.722237  3380.995673  0.271950  2.858730     -3.507505        0.869650   \n",
       "\n",
       "   steering_angle  accident_severity  driver_behavior  \n",
       "0       13.343126                  0                0  \n",
       "1      -29.485227                  0                0  \n",
       "2       33.515511                  0                0  \n",
       "3       10.180462                  1                0  \n",
       "4      -30.851650                  1                0  "
      ]
     },
     "execution_count": 11,
     "metadata": {},
     "output_type": "execute_result"
    }
   ],
   "source": [
    "df = pd.read_csv(r'C:\\Users\\praje\\OneDrive\\AppData\\Desktop\\project\\UYIR\\Synthetic_dataset_generation\\synthetic_driving_data_with_behavior_and_accident.csv')\n",
    "\n",
    "df.head()\n",
    "\n"
   ]
  },
  {
   "cell_type": "code",
   "execution_count": 13,
   "metadata": {},
   "outputs": [],
   "source": [
    "X = df.drop(columns=['accident_severity', 'driver_behavior'])\n",
    "y = df['accident_severity']"
   ]
  },
  {
   "cell_type": "code",
   "execution_count": 14,
   "metadata": {},
   "outputs": [],
   "source": [
    "X_train, X_test, y_train, y_test = train_test_split(X, y, test_size=0.3, random_state=42)\n",
    "scaler = StandardScaler()"
   ]
  },
  {
   "cell_type": "code",
   "execution_count": 17,
   "metadata": {},
   "outputs": [
    {
     "data": {
      "text/plain": [
       "['scaler.pkl']"
      ]
     },
     "execution_count": 17,
     "metadata": {},
     "output_type": "execute_result"
    }
   ],
   "source": [
    "import joblib\n",
    "X_train_scaled = scaler.fit_transform(X_train)\n",
    "\n",
    "joblib.dump(scaler, 'scaler.pkl')"
   ]
  },
  {
   "cell_type": "code",
   "execution_count": 18,
   "metadata": {},
   "outputs": [],
   "source": [
    "X_test_scaled = scaler.transform(X_test)\n",
    "\n",
    "accident_model = RandomForestClassifier(n_estimators=100, random_state=42)\n",
    "accident_model.fit(X_train_scaled, y_train)\n",
    "\n",
    "y_pred = accident_model.predict(X_test_scaled)"
   ]
  },
  {
   "cell_type": "code",
   "execution_count": 19,
   "metadata": {},
   "outputs": [
    {
     "name": "stdout",
     "output_type": "stream",
     "text": [
      "Accident Severity Classification Report:\n",
      "              precision    recall  f1-score   support\n",
      "\n",
      "           0       0.98      0.99      0.98       213\n",
      "           1       0.98      0.99      0.98        82\n",
      "           2       1.00      0.20      0.33         5\n",
      "\n",
      "    accuracy                           0.98       300\n",
      "   macro avg       0.98      0.73      0.77       300\n",
      "weighted avg       0.98      0.98      0.97       300\n",
      "\n"
     ]
    }
   ],
   "source": [
    "print(\"Accident Severity Classification Report:\")\n",
    "print(classification_report(y_test, y_pred))"
   ]
  },
  {
   "cell_type": "code",
   "execution_count": 20,
   "metadata": {},
   "outputs": [
    {
     "data": {
      "image/png": "[encoded data removed]",
      "text/plain": [
       "<Figure size 800x600 with 2 Axes>"
      ]
     },
     "metadata": {},
     "output_type": "display_data"
    }
   ],
   "source": [
    "\n",
    "plt.figure(figsize=(8, 6))\n",
    "sns.heatmap(confusion_matrix(y_test, y_pred), annot=True, fmt='d', cmap='Blues',\n",
    "            xticklabels=['No Accident', 'Minor Accident', 'Major Accident'],\n",
    "            yticklabels=['No Accident', 'Minor Accident', 'Major Accident'])\n",
    "plt.title('Confusion Matrix - Accident Severity')\n",
    "plt.xlabel('Predicted')\n",
    "plt.ylabel('True')\n",
    "plt.show()"
   ]
  },
  {
   "cell_type": "code",
   "execution_count": 21,
   "metadata": {},
   "outputs": [
    {
     "data": {
      "text/plain": [
       "['accident_severity_model.pkl']"
      ]
     },
     "execution_count": 21,
     "metadata": {},
     "output_type": "execute_result"
    }
   ],
   "source": [
    "joblib.dump(accident_model, 'accident_severity_model.pkl')"
   ]
  },
  {
   "cell_type": "code",
   "execution_count": null,
   "metadata": {},
   "outputs": [],
   "source": []
  }
 ],
 "metadata": {
  "kernelspec": {
   "display_name": "work",
   "language": "python",
   "name": "python3"
  },
  "language_info": {
   "codemirror_mode": {
    "name": "ipython",
    "version": 3
   },
   "file_extension": ".py",
   "mimetype": "text/x-python",
   "name": "python",
   "nbconvert_exporter": "python",
   "pygments_lexer": "ipython3",
   "version": "3.11.7"
  }
 },
 "nbformat": 4,
 "nbformat_minor": 2
}
